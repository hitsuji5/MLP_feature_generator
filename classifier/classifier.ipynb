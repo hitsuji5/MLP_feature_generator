{
 "cells": [
  {
   "cell_type": "markdown",
   "metadata": {},
   "source": [
    "### Male speaker state classifier using NN features"
   ]
  },
  {
   "cell_type": "code",
   "execution_count": 1,
   "metadata": {
    "collapsed": false
   },
   "outputs": [
    {
     "name": "stdout",
     "output_type": "stream",
     "text": [
      "(98, 256)\n",
      "(83, 256)\n",
      "(3, 256)\n",
      "(7, 256)\n"
     ]
    }
   ],
   "source": [
    "rootdir = 'male_nn_histograms/m_histograms_GMM_200frame_excluMDGT/'\n",
    "file0_train = rootdir + 'sober_hist.csv'\n",
    "file1_train = rootdir + 'drunk_hist.csv'\n",
    "file0_test = rootdir + 'MDGT_sober_hist.csv'\n",
    "file1_test = rootdir + 'MDGT_drunk_hist.csv'\n",
    "\n",
    "sober_train = np.genfromtxt(file0_train)\n",
    "drunk_train = np.genfromtxt(file1_train)\n",
    "sober_test = np.genfromtxt(file0_test)\n",
    "drunk_test = np.genfromtxt(file1_test)\n",
    "\n",
    "print sober_train.shape\n",
    "print drunk_train.shape\n",
    "print sober_test.shape\n",
    "print drunk_test.shape"
   ]
  },
  {
   "cell_type": "code",
   "execution_count": 2,
   "metadata": {
    "collapsed": false
   },
   "outputs": [
    {
     "name": "stdout",
     "output_type": "stream",
     "text": [
      "(181, 256) (10, 256)\n",
      "(181,) (10,)\n"
     ]
    }
   ],
   "source": [
    "X_train = np.vstack((sober_train, drunk_train))\n",
    "X_test = np.vstack((sober_test, drunk_test))\n",
    "y_train = np.hstack((np.zeros(sober_train.shape[0]), np.ones(drunk_train.shape[0])))\n",
    "y_test = np.hstack((np.zeros(sober_test.shape[0]), np.ones(drunk_test.shape[0])))\n",
    "print X_train.shape, X_test.shape\n",
    "print y_train.shape, y_test.shape"
   ]
  },
  {
   "cell_type": "code",
   "execution_count": 3,
   "metadata": {
    "collapsed": false
   },
   "outputs": [
    {
     "name": "stderr",
     "output_type": "stream",
     "text": [
      "/Users/odatakuma/anaconda/lib/python2.7/site-packages/sklearn/cross_validation.py:44: DeprecationWarning: This module was deprecated in version 0.18 in favor of the model_selection module into which all the refactored classes and functions are moved. Also note that the interface of the new CV iterators are different from that of this module. This module will be removed in 0.20.\n",
      "  \"This module will be removed in 0.20.\", DeprecationWarning)\n",
      "/Users/odatakuma/anaconda/lib/python2.7/site-packages/sklearn/grid_search.py:43: DeprecationWarning: This module was deprecated in version 0.18 in favor of the model_selection module into which all the refactored classes and functions are moved. This module will be removed in 0.20.\n",
      "  DeprecationWarning)\n"
     ]
    },
    {
     "name": "stdout",
     "output_type": "stream",
     "text": [
      "0.92817679558 {'kernel': 'linear', 'C': 1.0}\n",
      "0.3\n"
     ]
    }
   ],
   "source": [
    "from sklearn.svm import SVC\n",
    "from sklearn.grid_search import GridSearchCV\n",
    "\n",
    "svm = SVC(random_state=1)\n",
    "param_grid = [\n",
    "    {\n",
    "        'C': np.logspace(0, 3, 4),\n",
    "        'kernel':['linear']\n",
    "              },\n",
    "    {\n",
    "        'C': np.logspace(0, 3, 4),\n",
    "        'gamma': np.logspace(-2, 2, 5),\n",
    "        'kernel':['rbf']\n",
    "              }]\n",
    "gs = GridSearchCV(estimator=svm, param_grid=param_grid, cv=10, n_jobs=-1)\n",
    "gs = gs.fit(X_train, y_train)\n",
    "print gs.best_score_, gs.best_params_\n",
    "\n",
    "clf = gs.best_estimator_\n",
    "print clf.score(X_test, y_test)"
   ]
  },
  {
   "cell_type": "markdown",
   "metadata": {},
   "source": [
    "#### Score for training data"
   ]
  },
  {
   "cell_type": "code",
   "execution_count": 4,
   "metadata": {
    "collapsed": false
   },
   "outputs": [
    {
     "name": "stdout",
     "output_type": "stream",
     "text": [
      "1.0\n",
      "0.843373493976\n"
     ]
    }
   ],
   "source": [
    "from sklearn.metrics import precision_score, recall_score\n",
    "\n",
    "y_pred = clf.predict(X_train)\n",
    "print precision_score(y_train, y_pred)\n",
    "print recall_score(y_train, y_pred)"
   ]
  },
  {
   "cell_type": "markdown",
   "metadata": {},
   "source": [
    "#### Score for test data"
   ]
  },
  {
   "cell_type": "code",
   "execution_count": 5,
   "metadata": {
    "collapsed": false
   },
   "outputs": [
    {
     "name": "stdout",
     "output_type": "stream",
     "text": [
      "0.0\n",
      "0.0\n"
     ]
    },
    {
     "name": "stderr",
     "output_type": "stream",
     "text": [
      "/Users/odatakuma/anaconda/lib/python2.7/site-packages/sklearn/metrics/classification.py:1113: UndefinedMetricWarning: Precision is ill-defined and being set to 0.0 due to no predicted samples.\n",
      "  'precision', 'predicted', average, warn_for)\n"
     ]
    }
   ],
   "source": [
    "y_pred = clf.predict(X_test)\n",
    "print precision_score(y_test, y_pred)\n",
    "print recall_score(y_test, y_pred)"
   ]
  },
  {
   "cell_type": "code",
   "execution_count": 6,
   "metadata": {
    "collapsed": false
   },
   "outputs": [
    {
     "data": {
      "text/plain": [
       "array([ 0.,  0.,  0.,  0.,  0.,  0.,  0.,  0.,  0.,  0.])"
      ]
     },
     "execution_count": 6,
     "metadata": {},
     "output_type": "execute_result"
    }
   ],
   "source": [
    "clf.predict(X_test)"
   ]
  },
  {
   "cell_type": "markdown",
   "metadata": {},
   "source": [
    "### Female speaker state classifier using NN features"
   ]
  },
  {
   "cell_type": "code",
   "execution_count": 7,
   "metadata": {
    "collapsed": false
   },
   "outputs": [
    {
     "name": "stdout",
     "output_type": "stream",
     "text": [
      "(90, 256)\n",
      "(94, 256)\n",
      "(14, 256)\n",
      "(5, 256)\n"
     ]
    }
   ],
   "source": [
    "rootdir = 'female_nn_histograms/f_histogram_200f_40d_excluTVSGD/'\n",
    "file0_train = rootdir + 'sober_hist.csv'\n",
    "file1_train = rootdir + 'drunk_hist.csv'\n",
    "file0_test = rootdir + 'TVSGD_sober_hist.csv'\n",
    "file1_test = rootdir + 'TVSGD_drunk_hist.csv'\n",
    "\n",
    "sober_train = np.genfromtxt(file0_train)\n",
    "drunk_train = np.genfromtxt(file1_train)\n",
    "sober_test = np.genfromtxt(file0_test)\n",
    "drunk_test = np.genfromtxt(file1_test)\n",
    "\n",
    "print sober_train.shape\n",
    "print drunk_train.shape\n",
    "print sober_test.shape\n",
    "print drunk_test.shape"
   ]
  },
  {
   "cell_type": "code",
   "execution_count": 8,
   "metadata": {
    "collapsed": false
   },
   "outputs": [
    {
     "name": "stdout",
     "output_type": "stream",
     "text": [
      "(184, 256) (19, 256)\n",
      "(184,) (19,)\n"
     ]
    }
   ],
   "source": [
    "X_train = np.vstack((sober_train, drunk_train))\n",
    "X_test = np.vstack((sober_test, drunk_test))\n",
    "y_train = np.hstack((np.zeros(sober_train.shape[0]), np.ones(drunk_train.shape[0])))\n",
    "y_test = np.hstack((np.zeros(sober_test.shape[0]), np.ones(drunk_test.shape[0])))\n",
    "print X_train.shape, X_test.shape\n",
    "print y_train.shape, y_test.shape"
   ]
  },
  {
   "cell_type": "code",
   "execution_count": 9,
   "metadata": {
    "collapsed": false
   },
   "outputs": [
    {
     "name": "stdout",
     "output_type": "stream",
     "text": [
      "0.951086956522 {'kernel': 'rbf', 'C': 100.0, 'gamma': 0.10000000000000001}\n",
      "0.736842105263\n"
     ]
    }
   ],
   "source": [
    "svm = SVC(random_state=1)\n",
    "param_grid = [\n",
    "    {\n",
    "        'C': np.logspace(0, 3, 4),\n",
    "        'kernel':['linear']\n",
    "              },\n",
    "    {\n",
    "        'C': np.logspace(0, 3, 4),\n",
    "        'gamma': np.logspace(-2, 2, 5),\n",
    "        'kernel':['rbf']\n",
    "              }]\n",
    "gs = GridSearchCV(estimator=svm, param_grid=param_grid, cv=10, n_jobs=-1)\n",
    "gs = gs.fit(X_train, y_train)\n",
    "print gs.best_score_, gs.best_params_\n",
    "\n",
    "clf = gs.best_estimator_\n",
    "print clf.score(X_test, y_test)"
   ]
  },
  {
   "cell_type": "code",
   "execution_count": 10,
   "metadata": {
    "collapsed": false
   },
   "outputs": [
    {
     "name": "stdout",
     "output_type": "stream",
     "text": [
      "1.0\n",
      "0.968085106383\n"
     ]
    }
   ],
   "source": [
    "y_pred = clf.predict(X_train)\n",
    "print precision_score(y_train, y_pred)\n",
    "print recall_score(y_train, y_pred)"
   ]
  },
  {
   "cell_type": "code",
   "execution_count": 11,
   "metadata": {
    "collapsed": false
   },
   "outputs": [
    {
     "name": "stdout",
     "output_type": "stream",
     "text": [
      "0.0\n",
      "0.0\n"
     ]
    }
   ],
   "source": [
    "y_pred = clf.predict(X_test)\n",
    "print precision_score(y_test, y_pred)\n",
    "print recall_score(y_test, y_pred)"
   ]
  },
  {
   "cell_type": "code",
   "execution_count": 12,
   "metadata": {
    "collapsed": false
   },
   "outputs": [
    {
     "data": {
      "text/plain": [
       "array([ 0.,  0.,  0.,  0.,  0.,  0.,  0.,  0.,  0.,  0.,  0.,  0.,  0.,\n",
       "        0.,  0.,  0.,  0.,  0.,  0.])"
      ]
     },
     "execution_count": 12,
     "metadata": {},
     "output_type": "execute_result"
    }
   ],
   "source": [
    "clf.predict(X_test)"
   ]
  },
  {
   "cell_type": "code",
   "execution_count": null,
   "metadata": {
    "collapsed": true
   },
   "outputs": [],
   "source": []
  }
 ],
 "metadata": {
  "kernelspec": {
   "display_name": "Python 2",
   "language": "python",
   "name": "python2"
  },
  "language_info": {
   "codemirror_mode": {
    "name": "ipython",
    "version": 2
   },
   "file_extension": ".py",
   "mimetype": "text/x-python",
   "name": "python",
   "nbconvert_exporter": "python",
   "pygments_lexer": "ipython2",
   "version": "2.7.11"
  }
 },
 "nbformat": 4,
 "nbformat_minor": 0
}
