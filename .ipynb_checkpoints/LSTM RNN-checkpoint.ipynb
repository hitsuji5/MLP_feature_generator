{
 "cells": [
  {
   "cell_type": "code",
   "execution_count": 1,
   "metadata": {
    "collapsed": false
   },
   "outputs": [
    {
     "name": "stderr",
     "output_type": "stream",
     "text": [
      "/Users/odatakuma/anaconda/lib/python2.7/site-packages/matplotlib/__init__.py:1350: UserWarning:  This call to matplotlib.use() has no effect\n",
      "because the backend has already been chosen;\n",
      "matplotlib.use() must be called *before* pylab, matplotlib.pyplot,\n",
      "or matplotlib.backends is imported for the first time.\n",
      "\n",
      "  warnings.warn(_use_error_msg)\n",
      "Using TensorFlow backend.\n"
     ]
    }
   ],
   "source": [
    "%load_ext autoreload\n",
    "%autoreload 2\n",
    "import matplotlib\n",
    "matplotlib.use(\"svg\")\n",
    "import matplotlib.pyplot as plt\n",
    "%matplotlib inline\n",
    "plt.style.use('ggplot')\n",
    "matplotlib.rc(\"figure\", figsize=(6,4))\n",
    "import pandas as pd\n",
    "\n",
    "from keras.regularizers import l2\n",
    "import keras\n",
    "from keras.models import Sequential\n",
    "from keras.layers import LSTM\n",
    "from keras.layers.core import Flatten, Dense, Dropout\n",
    "from keras.layers.convolutional import Convolution1D, MaxPooling1D\n",
    "from keras.optimizers import SGD\n",
    "from keras.preprocessing import sequence\n",
    "\n",
    "from mfcc import create_feature_list"
   ]
  },
  {
   "cell_type": "code",
   "execution_count": 2,
   "metadata": {
    "collapsed": false
   },
   "outputs": [
    {
     "name": "stdout",
     "output_type": "stream",
     "text": [
      "(576,)\n",
      "(235, 300, 40) (341, 300, 40)\n"
     ]
    }
   ],
   "source": [
    "def split_dataset(features, labels, r=0.7):\n",
    "    p = np.random.permutation(features.shape[0])\n",
    "    N = int(features.shape[0] * r)\n",
    "    x_train = features[p][:N]\n",
    "    y_train = labels[p][:N]\n",
    "    x_test = features[p][N:]\n",
    "    y_test = labels[p][N:]\n",
    "    return x_train, y_train, x_test, y_test\n",
    "\n",
    "dir0 = 'data/female/sober'\n",
    "dir1 = 'data/female/drunk'\n",
    "threshold = 0.06\n",
    "maxlen= 300\n",
    "X, y = create_feature_list(dir0, dir1, 1, threshold, tmax=300, maxlen=maxlen, verbose=False)\n",
    "X = sequence.pad_sequences(X, maxlen=maxlen)\n",
    "y = np.array(y)\n",
    "X_train, y_train, X_test, y_test = split_dataset(X, y)\n",
    "\n",
    "print y_train.shape\n",
    "print X_train[y_train==1].shape, X_train[y_train==0].shape"
   ]
  },
  {
   "cell_type": "code",
   "execution_count": 16,
   "metadata": {
    "collapsed": false
   },
   "outputs": [],
   "source": [
    "def LSTM_model(input_dim=40, input_length=100, lstm_dim=10, output_dim=1):\n",
    "    model = Sequential()\n",
    "    model.add(LSTM(lstm_dim, input_dim=input_dim, input_length=input_length))\n",
    "    model.add(Dense(output_dim, activation='sigmoid'))\n",
    "    model.compile(loss='binary_crossentropy', optimizer='adam', metrics=['accuracy'])\n",
    "    return model\n",
    "\n",
    "def LSTM_CNN_model(input_dim=40, nb_filters=40, filter_length=5, input_length=100, lstm_dim=10, output_dim=1):\n",
    "    model = Sequential()\n",
    "    model.add(Convolution1D(nb_filters, filter_length, input_shape=(input_length, input_dim), border_mode='same', activation='relu'))\n",
    "    model.add(MaxPooling1D(pool_length=2))\n",
    "    model.add(Dropout(0.2))\n",
    "    model.add(LSTM(lstm_dim))\n",
    "    model.add(Dropout(0.5))\n",
    "    model.add(Dense(output_dim, activation='sigmoid'))\n",
    "    model.compile(loss='binary_crossentropy', optimizer='adam', metrics=['accuracy'])\n",
    "    return model"
   ]
  },
  {
   "cell_type": "code",
   "execution_count": 5,
   "metadata": {
    "collapsed": false
   },
   "outputs": [
    {
     "name": "stdout",
     "output_type": "stream",
     "text": [
      "LSTM dim: 10, batch_size: 16\n",
      "Train Loss: 0.420 | Accuracy: 0.819\n",
      "Test Loss: 0.551 | Accuracy: 0.726\n",
      "LSTM dim: 10, batch_size: 32\n",
      "Train Loss: 0.517 | Accuracy: 0.800\n",
      "Test Loss: 0.621 | Accuracy: 0.690\n",
      "LSTM dim: 20, batch_size: 16\n",
      "Train Loss: 0.496 | Accuracy: 0.776\n",
      "Test Loss: 0.564 | Accuracy: 0.714\n",
      "LSTM dim: 20, batch_size: 32\n",
      "Train Loss: 0.387 | Accuracy: 0.847\n",
      "Test Loss: 0.517 | Accuracy: 0.750\n",
      "LSTM dim: 40, batch_size: 16\n",
      "Train Loss: 0.433 | Accuracy: 0.840\n",
      "Test Loss: 0.510 | Accuracy: 0.766\n",
      "LSTM dim: 40, batch_size: 32\n",
      "Train Loss: 0.440 | Accuracy: 0.825\n",
      "Test Loss: 0.508 | Accuracy: 0.746\n"
     ]
    }
   ],
   "source": [
    "for lstm_dim in [10, 20, 40]:\n",
    "    for batch_size in [16, 32]:\n",
    "        model = LSTM_model(input_length=maxlen, lstm_dim=lstm_dim)\n",
    "        model.fit(X_train, y_train, nb_epoch=10, batch_size=batch_size, verbose=0)\n",
    "        scores_train = model.evaluate(X_train, y_train, verbose=0)\n",
    "        scores_test = model.evaluate(X_test, y_test, verbose=0)\n",
    "        print \"LSTM dim: %d, batch_size: %d\" %(lstm_dim, batch_size)\n",
    "        print \"Train Loss: %.3f | Accuracy: %.3f\" %(scores_train[0], scores_train[1])\n",
    "        print \"Test Loss: %.3f | Accuracy: %.3f\" %(scores_test[0], scores_test[1])"
   ]
  },
  {
   "cell_type": "code",
   "execution_count": 6,
   "metadata": {
    "collapsed": false
   },
   "outputs": [
    {
     "name": "stdout",
     "output_type": "stream",
     "text": [
      "LSTM dim: 10, batch_size: 32\n",
      "Train Loss: 0.407 | Accuracy: 0.835\n",
      "Test Loss: 0.494 | Accuracy: 0.778\n",
      "LSTM dim: 20, batch_size: 32\n",
      "Train Loss: 0.352 | Accuracy: 0.842\n",
      "Test Loss: 0.494 | Accuracy: 0.750\n",
      "LSTM dim: 40, batch_size: 32\n",
      "Train Loss: 0.351 | Accuracy: 0.842\n",
      "Test Loss: 0.473 | Accuracy: 0.806\n"
     ]
    }
   ],
   "source": [
    "for lstm_dim in [10, 20, 40]:\n",
    "    model = LSTM_model(input_length=maxlen, lstm_dim=lstm_dim)\n",
    "    model.fit(X_train, y_train, nb_epoch=20, batch_size=32, verbose=0)\n",
    "    scores_train = model.evaluate(X_train, y_train, verbose=0)\n",
    "    scores_test = model.evaluate(X_test, y_test, verbose=0)\n",
    "    print \"LSTM dim: %d, batch_size: %d\" %(lstm_dim, batch_size)\n",
    "    print \"Train Loss: %.3f | Accuracy: %.3f\" %(scores_train[0], scores_train[1])\n",
    "    print \"Test Loss: %.3f | Accuracy: %.3f\" %(scores_test[0], scores_test[1])"
   ]
  },
  {
   "cell_type": "code",
   "execution_count": 8,
   "metadata": {
    "collapsed": false
   },
   "outputs": [
    {
     "name": "stdout",
     "output_type": "stream",
     "text": [
      "CNN | LSTM | train loss/accuracy | test loss/accuracy\n",
      "20, 3 | 10 | 0.645 / 0.606 | 0.671 / 0.520\n",
      "20, 3 | 20 | 0.662 / 0.502 | 0.679 / 0.532\n",
      "20, 5 | 10 | 0.464 / 0.821 | 0.560 / 0.762\n",
      "20, 5 | 20 | 0.407 / 0.840 | 0.482 / 0.782\n",
      "40, 3 | 10 | 0.433 / 0.828 | 0.542 / 0.766\n",
      "40, 3 | 20 | 0.529 / 0.812 | 0.587 / 0.730\n",
      "40, 5 | 10 | 0.195 / 0.946 | 0.363 / 0.863\n",
      "40, 5 | 20 | 0.639 / 0.608 | 0.698 / 0.536\n"
     ]
    }
   ],
   "source": [
    "print \"CNN | LSTM | train loss/accuracy | test loss/accuracy\"\n",
    "for nb_filters in [20, 40]:\n",
    "    for filter_length in [3, 5]:\n",
    "        for lstm_dim in [10, 20]:\n",
    "            model = LSTM_CNN_model(input_length=maxlen, nb_filters=nb_filters, \n",
    "                                   filter_length=filter_length, lstm_dim=lstm_dim)\n",
    "            model.fit(X_train, y_train, nb_epoch=20, batch_size=32, verbose=0)\n",
    "            scores_train = model.evaluate(X_train, y_train, verbose=0)\n",
    "            scores_test = model.evaluate(X_test, y_test, verbose=0)\n",
    "            print \"%d, %d | %d | %.3f / %.3f | %.3f / %.3f\" % (\n",
    "                nb_filters, filter_length, lstm_dim, scores_train[0], scores_train[1],\n",
    "                scores_test[0], scores_test[1])"
   ]
  },
  {
   "cell_type": "code",
   "execution_count": 12,
   "metadata": {
    "collapsed": false
   },
   "outputs": [
    {
     "name": "stdout",
     "output_type": "stream",
     "text": [
      "CNN | train accuracy | test accuracy\n",
      "5 | 0.832  | 0.758\n",
      "7 | 0.877  | 0.794\n",
      "9 | 0.866  | 0.778\n"
     ]
    }
   ],
   "source": [
    "print \"CNN | train accuracy | test accuracy\"\n",
    "for filter_length in [5, 7, 9]:\n",
    "    model = LSTM_CNN_model(input_length=maxlen, nb_filters=40, \n",
    "                           filter_length=filter_length, lstm_dim=10)\n",
    "    model.fit(X_train, y_train, nb_epoch=20, batch_size=32, verbose=0)\n",
    "    scores_train = model.evaluate(X_train, y_train, verbose=0)\n",
    "    scores_test = model.evaluate(X_test, y_test, verbose=0)\n",
    "    print \"%d | %.3f  | %.3f\" % (filter_length, scores_train[1], scores_test[1])"
   ]
  },
  {
   "cell_type": "code",
   "execution_count": 14,
   "metadata": {
    "collapsed": false
   },
   "outputs": [
    {
     "name": "stdout",
     "output_type": "stream",
     "text": [
      "CNN | train accuracy | test accuracy\n",
      "3 | 0.964  | 0.855\n",
      "5 | 0.899  | 0.778\n",
      "7 | 0.943  | 0.835\n"
     ]
    }
   ],
   "source": [
    "print \"CNN | train accuracy | test accuracy\"\n",
    "for filter_length in [3, 5, 7]:\n",
    "    model = LSTM_CNN_model(input_length=maxlen, nb_filters=40, \n",
    "                           filter_length=filter_length, lstm_dim=10)\n",
    "    model.fit(X_train, y_train, nb_epoch=30, batch_size=32, verbose=0)\n",
    "    scores_train = model.evaluate(X_train, y_train, verbose=0)\n",
    "    scores_test = model.evaluate(X_test, y_test, verbose=0)\n",
    "    print \"%d | %.3f  | %.3f\" % (filter_length, scores_train[1], scores_test[1])"
   ]
  },
  {
   "cell_type": "code",
   "execution_count": 15,
   "metadata": {
    "collapsed": false
   },
   "outputs": [
    {
     "name": "stdout",
     "output_type": "stream",
     "text": [
      "CNN | train accuracy | test accuracy\n",
      "3 | 0.932  | 0.831\n",
      "5 | 0.962  | 0.867\n",
      "7 | 0.991  | 0.895\n"
     ]
    }
   ],
   "source": [
    "print \"CNN | train accuracy | test accuracy\"\n",
    "for filter_length in [3, 5, 7]:\n",
    "    model = LSTM_CNN_model(input_length=maxlen, nb_filters=40, \n",
    "                           filter_length=filter_length, lstm_dim=10)\n",
    "    model.fit(X_train, y_train, nb_epoch=40, batch_size=32, verbose=0)\n",
    "    scores_train = model.evaluate(X_train, y_train, verbose=0)\n",
    "    scores_test = model.evaluate(X_test, y_test, verbose=0)\n",
    "    print \"%d | %.3f  | %.3f\" % (filter_length, scores_train[1], scores_test[1])"
   ]
  },
  {
   "cell_type": "code",
   "execution_count": 17,
   "metadata": {
    "collapsed": false
   },
   "outputs": [
    {
     "name": "stdout",
     "output_type": "stream",
     "text": [
      "7 | 0.861  | 0.770\n"
     ]
    }
   ],
   "source": [
    "filter_length = 7\n",
    "model = LSTM_CNN_model(input_length=maxlen, nb_filters=40, \n",
    "                       filter_length=filter_length, lstm_dim=10)\n",
    "model.fit(X_train, y_train, nb_epoch=40, batch_size=32, verbose=0)\n",
    "scores_train = model.evaluate(X_train, y_train, verbose=0)\n",
    "scores_test = model.evaluate(X_test, y_test, verbose=0)\n",
    "print \"%d | %.3f  | %.3f\" % (filter_length, scores_train[1], scores_test[1])"
   ]
  },
  {
   "cell_type": "code",
   "execution_count": 18,
   "metadata": {
    "collapsed": false
   },
   "outputs": [
    {
     "ename": "IndexError",
     "evalue": "too many indices for array",
     "output_type": "error",
     "traceback": [
      "\u001b[0;31m---------------------------------------------------------------------------\u001b[0m",
      "\u001b[0;31mIndexError\u001b[0m                                Traceback (most recent call last)",
      "\u001b[0;32m<ipython-input-18-d9ee6906fe8b>\u001b[0m in \u001b[0;36m<module>\u001b[0;34m()\u001b[0m\n\u001b[1;32m     10\u001b[0m     \u001b[0;32mreturn\u001b[0m \u001b[0mx_train\u001b[0m\u001b[0;34m,\u001b[0m \u001b[0my_train\u001b[0m\u001b[0;34m,\u001b[0m \u001b[0mx_test\u001b[0m\u001b[0;34m,\u001b[0m \u001b[0my_test\u001b[0m\u001b[0;34m\u001b[0m\u001b[0m\n\u001b[1;32m     11\u001b[0m \u001b[0;34m\u001b[0m\u001b[0m\n\u001b[0;32m---> 12\u001b[0;31m \u001b[0mX_train\u001b[0m\u001b[0;34m,\u001b[0m \u001b[0my_train\u001b[0m\u001b[0;34m,\u001b[0m \u001b[0mX_test\u001b[0m\u001b[0;34m,\u001b[0m \u001b[0my_test\u001b[0m \u001b[0;34m=\u001b[0m \u001b[0msplit_dataset2\u001b[0m\u001b[0;34m(\u001b[0m\u001b[0mX\u001b[0m\u001b[0;34m,\u001b[0m \u001b[0my\u001b[0m\u001b[0;34m)\u001b[0m\u001b[0;34m\u001b[0m\u001b[0m\n\u001b[0m\u001b[1;32m     13\u001b[0m \u001b[0;34m\u001b[0m\u001b[0m\n\u001b[1;32m     14\u001b[0m \u001b[0;32mprint\u001b[0m \u001b[0my_train\u001b[0m\u001b[0;34m.\u001b[0m\u001b[0mshape\u001b[0m\u001b[0;34m\u001b[0m\u001b[0m\n",
      "\u001b[0;32m<ipython-input-18-d9ee6906fe8b>\u001b[0m in \u001b[0;36msplit_dataset2\u001b[0;34m(features, labels, r)\u001b[0m\n\u001b[1;32m      1\u001b[0m \u001b[0;32mdef\u001b[0m \u001b[0msplit_dataset2\u001b[0m\u001b[0;34m(\u001b[0m\u001b[0mfeatures\u001b[0m\u001b[0;34m,\u001b[0m \u001b[0mlabels\u001b[0m\u001b[0;34m,\u001b[0m \u001b[0mr\u001b[0m\u001b[0;34m=\u001b[0m\u001b[0;36m0.7\u001b[0m\u001b[0;34m)\u001b[0m\u001b[0;34m:\u001b[0m\u001b[0;34m\u001b[0m\u001b[0m\n\u001b[0;32m----> 2\u001b[0;31m     \u001b[0mX0\u001b[0m \u001b[0;34m=\u001b[0m \u001b[0mfeatures\u001b[0m\u001b[0;34m[\u001b[0m\u001b[0mlabels\u001b[0m\u001b[0;34m[\u001b[0m\u001b[0;34m:\u001b[0m\u001b[0;34m,\u001b[0m\u001b[0;36m0\u001b[0m\u001b[0;34m]\u001b[0m\u001b[0;34m==\u001b[0m\u001b[0;36m0\u001b[0m\u001b[0;34m]\u001b[0m\u001b[0;34m\u001b[0m\u001b[0m\n\u001b[0m\u001b[1;32m      3\u001b[0m     \u001b[0mX1\u001b[0m \u001b[0;34m=\u001b[0m \u001b[0mfeatures\u001b[0m\u001b[0;34m[\u001b[0m\u001b[0mlabels\u001b[0m\u001b[0;34m[\u001b[0m\u001b[0;34m:\u001b[0m\u001b[0;34m,\u001b[0m\u001b[0;36m0\u001b[0m\u001b[0;34m]\u001b[0m\u001b[0;34m==\u001b[0m\u001b[0;36m1\u001b[0m\u001b[0;34m]\u001b[0m\u001b[0;34m\u001b[0m\u001b[0m\n\u001b[1;32m      4\u001b[0m     \u001b[0mN0\u001b[0m \u001b[0;34m=\u001b[0m \u001b[0mint\u001b[0m\u001b[0;34m(\u001b[0m\u001b[0mX0\u001b[0m\u001b[0;34m.\u001b[0m\u001b[0mshape\u001b[0m\u001b[0;34m[\u001b[0m\u001b[0;36m0\u001b[0m\u001b[0;34m]\u001b[0m \u001b[0;34m*\u001b[0m \u001b[0mr\u001b[0m\u001b[0;34m)\u001b[0m\u001b[0;34m\u001b[0m\u001b[0m\n\u001b[1;32m      5\u001b[0m     \u001b[0mN1\u001b[0m \u001b[0;34m=\u001b[0m \u001b[0mint\u001b[0m\u001b[0;34m(\u001b[0m\u001b[0mX1\u001b[0m\u001b[0;34m.\u001b[0m\u001b[0mshape\u001b[0m\u001b[0;34m[\u001b[0m\u001b[0;36m0\u001b[0m\u001b[0;34m]\u001b[0m \u001b[0;34m*\u001b[0m \u001b[0mr\u001b[0m\u001b[0;34m)\u001b[0m\u001b[0;34m\u001b[0m\u001b[0m\n",
      "\u001b[0;31mIndexError\u001b[0m: too many indices for array"
     ]
    }
   ],
   "source": [
    "def split_dataset2(features, labels, r=0.7):\n",
    "    X0 = features[labels[:,0]==0]\n",
    "    X1 = features[labels[:,0]==1]\n",
    "    N0 = int(X0.shape[0] * r)\n",
    "    N1 = int(X1.shape[0] * r)\n",
    "    x_train = np.vstack((X0[:N0], X1[:N1]))\n",
    "    y_train = np.vstack((np.zeros((N0,1)), np.ones((N1,1))))\n",
    "    x_test = np.vstack((X0[N0:], X1[N1:]))\n",
    "    y_test = np.vstack((np.zeros((X0.shape[0]-N0,1)), np.ones((X1.shape[0]-N1,1))))\n",
    "    return x_train, y_train, x_test, y_test\n",
    "\n",
    "X_train, y_train, X_test, y_test = split_dataset2(X, y)\n",
    "\n",
    "print y_train.shape\n",
    "print X_train[y_train==1].shape, X_train[y_train==0].shape"
   ]
  },
  {
   "cell_type": "code",
   "execution_count": null,
   "metadata": {
    "collapsed": true
   },
   "outputs": [],
   "source": []
  }
 ],
 "metadata": {
  "kernelspec": {
   "display_name": "Python 2",
   "language": "python",
   "name": "python2"
  },
  "language_info": {
   "codemirror_mode": {
    "name": "ipython",
    "version": 2
   },
   "file_extension": ".py",
   "mimetype": "text/x-python",
   "name": "python",
   "nbconvert_exporter": "python",
   "pygments_lexer": "ipython2",
   "version": "2.7.11"
  }
 },
 "nbformat": 4,
 "nbformat_minor": 0
}
